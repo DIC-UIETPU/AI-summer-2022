{
 "cells": [
  {
   "cell_type": "markdown",
   "metadata": {
    "id": "YJ01f2F6D5Fu"
   },
   "source": [
    "This tutorial was contributed by [Ashwani Rathee](https://github.com/ashwani-rathee) and [Abhiroop Singh](https://github.com/abhiroopsk)"
   ]
  },
  {
   "cell_type": "code",
   "execution_count": 1,
   "metadata": {
    "colab": {
     "base_uri": "https://localhost:8080/"
    },
    "id": "5F4_Mdyu4F6p",
    "outputId": "237a726a-7ae0-4f03-e8be-103ad8b1504d"
   },
   "outputs": [
    {
     "name": "stdout",
     "output_type": "stream",
     "text": [
      "Python 3.8.0\n"
     ]
    }
   ],
   "source": [
    "!python --version"
   ]
  },
  {
   "cell_type": "markdown",
   "metadata": {
    "id": "aaZW_9-F1GgZ"
   },
   "source": [
    "### What is NumPy?\n",
    "\n",
    "NumPy, which stands for Numerical Python, is a python library consisting of multidimensional array objects and a collection of routines for processing those arrays. Using NumPy, mathematical and logical operations on arrays can be performed. This tutorial explains the basics of NumPy such as its architecture and environment. It also discusses the various array functions, types of indexing, etc.\n",
    "\n",
    "In 2005,Travis Oliphant created NumPy Package based on previous NumArray.NumPy is often used along with packages like Pandas,SciPy (Scientific Python) and Mat−plotlib (plotting library). \n",
    "\n",
    "###Why use NumPy?\n",
    "In Python we have lists that serve the purpose of arrays, but they are slow to process.\n",
    "\n",
    "NumPy aims to provide an array object that is up to 50x faster than traditional Python lists.\n",
    "\n",
    "The array object in NumPy is called \"ndarray\", it provides a lot of supporting functions that make working with ndarray very easy.\n",
    "\n",
    "Arrays are very frequently used in data science, where speed and resources are very important.\n",
    "<img src=\"https://i.imgur.com/jKHfhRB.png\" alt=\"alt text\" width=\"500\"/>\n",
    "\n",
    "\n",
    "### Audience :\n",
    "- People who wish to learn about machine learning concepts in future.\n",
    "\n",
    "#### Prerequisites :\n",
    "- Basic Understanding of computer programming technologies\n",
    "\n",
    "#### Method to install : \n",
    "If you have Python and PIP already installed on a system, then install it using this command:\n",
    "```\n",
    "pip install numpy\n",
    "```"
   ]
  },
  {
   "cell_type": "markdown",
   "metadata": {
    "id": "AKyA-H7PGrV5"
   },
   "source": [
    "### Import Numpy \n",
    "<img src=\"https://i.imgur.com/Uv7ktFX.png\" alt=\"alt text\" width=\"200\"/>"
   ]
  },
  {
   "cell_type": "code",
   "execution_count": 2,
   "metadata": {
    "colab": {
     "base_uri": "https://localhost:8080/"
    },
    "id": "o6XNLb1JkaV5",
    "outputId": "b43cd662-836c-41f4-d9d9-7bdb4a6ddba0"
   },
   "outputs": [
    {
     "name": "stdout",
     "output_type": "stream",
     "text": [
      "Numpy Version:  1.23.0\n"
     ]
    }
   ],
   "source": [
    "import numpy as np \n",
    "import matplotlib.pylab as plt\n",
    "from numpy import random\n",
    "#np is a common alias for numpy\n",
    "print(\"Numpy Version: \" ,np.__version__,)"
   ]
  },
  {
   "cell_type": "code",
   "execution_count": 33,
   "metadata": {},
   "outputs": [
    {
     "data": {
      "text/plain": [
       "\u001b[0;31mInit signature:\u001b[0m \u001b[0mlist\u001b[0m\u001b[0;34m(\u001b[0m\u001b[0miterable\u001b[0m\u001b[0;34m=\u001b[0m\u001b[0;34m(\u001b[0m\u001b[0;34m)\u001b[0m\u001b[0;34m,\u001b[0m \u001b[0;34m/\u001b[0m\u001b[0;34m)\u001b[0m\u001b[0;34m\u001b[0m\u001b[0;34m\u001b[0m\u001b[0m\n",
       "\u001b[0;31mDocstring:\u001b[0m     \n",
       "Built-in mutable sequence.\n",
       "\n",
       "If no argument is given, the constructor creates a new empty list.\n",
       "The argument must be an iterable if specified.\n",
       "\u001b[0;31mType:\u001b[0m           type\n",
       "\u001b[0;31mSubclasses:\u001b[0m     _HashedSeq, StackSummary, ConvertingList, DeferredConfigList, SList, _ImmutableLineList, FormattedText, NodeList, _ExplodedList, Stack, ...\n"
      ]
     },
     "metadata": {},
     "output_type": "display_data"
    }
   ],
   "source": [
    "?list"
   ]
  },
  {
   "cell_type": "code",
   "execution_count": 3,
   "metadata": {
    "id": "3Z0q5tFnfOV9"
   },
   "outputs": [],
   "source": [
    "# np? #Help function"
   ]
  },
  {
   "cell_type": "code",
   "execution_count": 4,
   "metadata": {
    "id": "XoQA4KtPSDvA"
   },
   "outputs": [],
   "source": [
    "List=[1,'a','asd',123.0]"
   ]
  },
  {
   "cell_type": "markdown",
   "metadata": {
    "id": "zOB9LWPdKGPS"
   },
   "source": [
    "###Example"
   ]
  },
  {
   "cell_type": "markdown",
   "metadata": {
    "id": "eY3TaL2vKhXq"
   },
   "source": [
    "A numpy array is a grid of values, all of the same type, and is indexed by a tuple of nonnegative integers. The number of dimensions is the rank of the array; the shape of an array is a tuple of integers giving the size of the array along each dimension.\n",
    "\n",
    "To create an ndarray, we can pass a list, tuple or any array-like object into the array() method, and it will be converted into an ndarray:"
   ]
  },
  {
   "cell_type": "code",
   "execution_count": 5,
   "metadata": {
    "colab": {
     "base_uri": "https://localhost:8080/",
     "height": 214
    },
    "id": "qfIaI1ocKSCC",
    "outputId": "3bb5ff35-d4e3-4cb4-d0d6-9b18dec1b968"
   },
   "outputs": [
    {
     "name": "stdout",
     "output_type": "stream",
     "text": [
      "[1 2 3 4 5]\n",
      "<class 'numpy.ndarray'>\n"
     ]
    }
   ],
   "source": [
    "sample_list=[1,2,3,4,5]\n",
    "arr = np.array(sample_list,dtype=np.int8) #we can specify the datatype,creates array of rank 1\n",
    "print(arr)\n",
    "print(type(arr))"
   ]
  },
  {
   "cell_type": "markdown",
   "metadata": {
    "id": "rElbVNOAYGLE"
   },
   "source": [
    "### Array Creation"
   ]
  },
  {
   "cell_type": "markdown",
   "metadata": {
    "id": "X_69HsuvNJYU"
   },
   "source": [
    "#### 0-D Arrays\n",
    "0-D arrays, or Scalars, are the elements in an array. Each value in an array is a 0-D array."
   ]
  },
  {
   "cell_type": "code",
   "execution_count": 6,
   "metadata": {
    "colab": {
     "base_uri": "https://localhost:8080/"
    },
    "id": "frvM0_T2NOzy",
    "outputId": "c3f69ed6-5a13-4b5e-8258-07da5e6d1da2"
   },
   "outputs": [
    {
     "name": "stdout",
     "output_type": "stream",
     "text": [
      "42\n"
     ]
    }
   ],
   "source": [
    "arr = np.array(42)\n",
    "print(arr)"
   ]
  },
  {
   "cell_type": "markdown",
   "metadata": {
    "id": "BFCBMAaxNiXi"
   },
   "source": [
    "#### 1-D Arrays\n",
    "*An* array that has 0-D arrays as its elements is called uni-dimensional or 1-D array."
   ]
  },
  {
   "cell_type": "code",
   "execution_count": 7,
   "metadata": {
    "colab": {
     "base_uri": "https://localhost:8080/"
    },
    "id": "9CQT-u9nNn7S",
    "outputId": "bb0e8e31-13ff-4c98-8a38-03d5bbc7e21f"
   },
   "outputs": [
    {
     "name": "stdout",
     "output_type": "stream",
     "text": [
      "[1 2 3 4 5]\n"
     ]
    }
   ],
   "source": [
    "arr = np.array([1, 2, 3, 4, 5],dtype=np.int8)\n",
    "print(arr)"
   ]
  },
  {
   "cell_type": "markdown",
   "metadata": {
    "id": "JAAzgYDcNzLC"
   },
   "source": [
    "#### 2-D Arrays\n",
    "An array that has 1-D arrays as its elements is called a 2-D array."
   ]
  },
  {
   "cell_type": "code",
   "execution_count": 35,
   "metadata": {
    "colab": {
     "base_uri": "https://localhost:8080/"
    },
    "id": "Qqa9fVU7N8m1",
    "outputId": "03c4cdd6-9ecc-4f38-c6ba-6d3a55018ecc"
   },
   "outputs": [
    {
     "name": "stdout",
     "output_type": "stream",
     "text": [
      "[[1 2 3]\n",
      " [4 5 6]]\n",
      "(2, 3)\n"
     ]
    }
   ],
   "source": [
    "arr = np.array([[1, 2, 3], [4, 5, 6]])\n",
    "print(arr)\n",
    "print(arr.shape)"
   ]
  },
  {
   "cell_type": "markdown",
   "metadata": {
    "id": "LP_xdrtX74Z6"
   },
   "source": [
    "####Task:\n"
   ]
  },
  {
   "cell_type": "markdown",
   "metadata": {
    "id": "cljDisPr78qr"
   },
   "source": [
    "Make your own 1-D and 2-D array:"
   ]
  },
  {
   "cell_type": "code",
   "execution_count": 9,
   "metadata": {
    "colab": {
     "base_uri": "https://localhost:8080/"
    },
    "id": "PJ_4Ei2B77uZ",
    "outputId": "c9d431c1-91b3-4963-a57f-87022032b42c"
   },
   "outputs": [
    {
     "name": "stdout",
     "output_type": "stream",
     "text": [
      "5\n",
      "20\n",
      "[1 2 3 4 5]\n"
     ]
    }
   ],
   "source": [
    "arr = np.array([1, 2, 3, 4, 5],dtype=np.int8)\n",
    "brr = np.array([1, 2, 3, 4, 5],dtype=np.int32)\n",
    "print(arr.nbytes)\n",
    "print(brr.nbytes)\n",
    "print(arr)"
   ]
  },
  {
   "cell_type": "markdown",
   "metadata": {
    "id": "3xa3z_BkOE4T"
   },
   "source": [
    "#### 3-D arrays\n",
    "An array that has 2-D arrays (matrices) as its elements is called 3-D array."
   ]
  },
  {
   "cell_type": "code",
   "execution_count": 36,
   "metadata": {
    "colab": {
     "base_uri": "https://localhost:8080/"
    },
    "id": "mB3dV28VOJ36",
    "outputId": "ecb3d2fe-8081-471a-cc55-e51891ed5e45"
   },
   "outputs": [
    {
     "name": "stdout",
     "output_type": "stream",
     "text": [
      "[[[1 2 3]\n",
      "  [4 5 6]]\n",
      "\n",
      " [[1 2 3]\n",
      "  [4 5 6]]]\n",
      "(2, 2, 3)\n"
     ]
    }
   ],
   "source": [
    "arr = np.array([[[1, 2, 3], [4, 5, 6]], [[1, 2, 3], [4, 5, 6]]])\n",
    "print(arr)\n",
    "print(arr.shape)"
   ]
  },
  {
   "cell_type": "code",
   "execution_count": 11,
   "metadata": {
    "colab": {
     "base_uri": "https://localhost:8080/"
    },
    "id": "4PcUU5RWHNfM",
    "outputId": "d8666bc8-f00f-4cbb-c401-4ec1742e91ad"
   },
   "outputs": [
    {
     "name": "stdout",
     "output_type": "stream",
     "text": [
      "A : \n",
      " [1 2 3]\n",
      "B : \n",
      " [[1 2]\n",
      " [3 4]]\n",
      "C : \n",
      " [1.+0.j 2.+0.j 3.+0.j]\n"
     ]
    }
   ],
   "source": [
    "a = np.array([1,2,3]) \n",
    "b = np.array([[1, 2], [3, 4]]) \n",
    "c = np.array([1, 2, 3], dtype = complex) \n",
    "print(\"A : \\n\",a)\n",
    "print(\"B : \\n\",b)\n",
    "print(\"C : \\n\",c)"
   ]
  },
  {
   "cell_type": "markdown",
   "metadata": {
    "id": "Dzj_MjdYPj2y"
   },
   "source": [
    "#### Generate Random Array:"
   ]
  },
  {
   "cell_type": "code",
   "execution_count": 37,
   "metadata": {
    "colab": {
     "base_uri": "https://localhost:8080/"
    },
    "id": "KnDALicODs04",
    "outputId": "9be9b354-cae5-4fd0-cc44-e12d13e5ab6c"
   },
   "outputs": [
    {
     "name": "stdout",
     "output_type": "stream",
     "text": [
      "[6 4 8 5 4 1]\n",
      "[[9 2 2 1]\n",
      " [3 3 7 6]\n",
      " [3 6 0 4]]\n",
      "[[[3 1 0 3 4]\n",
      "  [8 4 4 9 4]\n",
      "  [9 7 7 9 1]\n",
      "  [1 1 0 8 5]]\n",
      "\n",
      " [[1 8 0 6 4]\n",
      "  [6 8 9 3 8]\n",
      "  [6 4 0 2 4]\n",
      "  [5 6 2 9 1]]\n",
      "\n",
      " [[3 3 9 2 2]\n",
      "  [8 5 6 1 3]\n",
      "  [8 0 0 8 1]\n",
      "  [5 6 4 0 9]]]\n"
     ]
    },
    {
     "data": {
      "text/plain": [
       "array([[30, 15, 14, 22, 26],\n",
       "       [23, 16, 12, 13, 33]])"
      ]
     },
     "execution_count": 37,
     "metadata": {},
     "output_type": "execute_result"
    }
   ],
   "source": [
    "x1 = np.random.randint(10, size=6 ) # One-dimensional array\n",
    "x2 = np.random.randint(10, size=(3, 4))  # Two-dimensional array\n",
    "x3 = np.random.randint(10, size=(3, 4, 5))  # Three-dimensional array\n",
    "print(x1)\n",
    "print(x2)\n",
    "print(x3)\n",
    "np.random.randint(10,50,size=(2,5)) #start,stop,no of values"
   ]
  },
  {
   "cell_type": "code",
   "execution_count": 13,
   "metadata": {
    "colab": {
     "base_uri": "https://localhost:8080/"
    },
    "id": "m2CMwSDlFhgc",
    "outputId": "c71dab1b-bdbf-4f72-eccf-1dc29a75d917"
   },
   "outputs": [
    {
     "name": "stdout",
     "output_type": "stream",
     "text": [
      "[[[1 9 6 5 0]\n",
      "  [0 9 7 0 7]\n",
      "  [9 7 3 2 9]\n",
      "  [1 6 8 4 9]]\n",
      "\n",
      " [[9 8 2 3 4]\n",
      "  [0 9 8 5 0]\n",
      "  [5 6 6 7 2]\n",
      "  [7 7 3 5 3]]\n",
      "\n",
      " [[0 1 7 3 4]\n",
      "  [5 6 1 2 8]\n",
      "  [0 7 4 3 9]\n",
      "  [7 4 4 7 5]]]\n",
      "x2: \n",
      " [[4 7 0 3]\n",
      " [1 6 0 7]\n",
      " [5 3 1 9]]\n"
     ]
    }
   ],
   "source": [
    "print(x3);\n",
    "print(\"x2: \\n\", x2);\n",
    "# Try to print x3 array\n",
    "# print(...); "
   ]
  },
  {
   "cell_type": "markdown",
   "metadata": {
    "id": "NbUi6tI_VzUv"
   },
   "source": [
    "#### Other methods: Using Arange,Linspace,Zeros,Ones"
   ]
  },
  {
   "cell_type": "code",
   "execution_count": 14,
   "metadata": {
    "colab": {
     "base_uri": "https://localhost:8080/"
    },
    "id": "49BaKBObWI6e",
    "outputId": "9a0ce002-996f-40e5-beed-dd8e4abccfb2"
   },
   "outputs": [
    {
     "data": {
      "text/plain": [
       "array([0. , 0.5, 1. , 1.5, 2. , 2.5, 3. , 3.5, 4. , 4.5, 5. , 5.5, 6. ,\n",
       "       6.5, 7. , 7.5, 8. , 8.5, 9. , 9.5])"
      ]
     },
     "execution_count": 14,
     "metadata": {},
     "output_type": "execute_result"
    }
   ],
   "source": [
    "np.arange(0,10,0.5) #start,stop,size of step"
   ]
  },
  {
   "cell_type": "code",
   "execution_count": 15,
   "metadata": {
    "colab": {
     "base_uri": "https://localhost:8080/"
    },
    "id": "wM4dxfCIWMrd",
    "outputId": "bc408cc9-1379-46a2-e05a-0cf50bfdae77"
   },
   "outputs": [
    {
     "data": {
      "text/plain": [
       "array([ 0. ,  2.5,  5. ,  7.5, 10. ])"
      ]
     },
     "execution_count": 15,
     "metadata": {},
     "output_type": "execute_result"
    }
   ],
   "source": [
    "np.linspace(0,10,5) #start,stop,number of values in between"
   ]
  },
  {
   "cell_type": "code",
   "execution_count": 38,
   "metadata": {
    "colab": {
     "base_uri": "https://localhost:8080/"
    },
    "id": "YBZ3GlYPW1w0",
    "outputId": "25f1cffd-88b2-4f76-c08c-d86949849877"
   },
   "outputs": [
    {
     "data": {
      "text/plain": [
       "array([[[0., 0.],\n",
       "        [0., 0.]],\n",
       "\n",
       "       [[0., 0.],\n",
       "        [0., 0.]],\n",
       "\n",
       "       [[0., 0.],\n",
       "        [0., 0.]]])"
      ]
     },
     "execution_count": 38,
     "metadata": {},
     "output_type": "execute_result"
    }
   ],
   "source": [
    "np.zeros((3,2,2))"
   ]
  },
  {
   "cell_type": "code",
   "execution_count": 17,
   "metadata": {
    "colab": {
     "base_uri": "https://localhost:8080/"
    },
    "id": "7CQXNqikXDUn",
    "outputId": "866b7db4-b317-42ef-82c3-85eb9e7f7f3b"
   },
   "outputs": [
    {
     "data": {
      "text/plain": [
       "array([[1., 1.],\n",
       "       [1., 1.],\n",
       "       [1., 1.]])"
      ]
     },
     "execution_count": 17,
     "metadata": {},
     "output_type": "execute_result"
    }
   ],
   "source": [
    "np.ones((3,2))"
   ]
  },
  {
   "cell_type": "markdown",
   "metadata": {
    "id": "qYsIFKrTUafv"
   },
   "source": [
    "### Ndarray Properties"
   ]
  },
  {
   "cell_type": "code",
   "execution_count": 39,
   "metadata": {
    "colab": {
     "base_uri": "https://localhost:8080/"
    },
    "id": "XSAqAMbIDs05",
    "outputId": "f6720c8b-37c9-4d4e-eb6d-fb93d8f99c33"
   },
   "outputs": [
    {
     "name": "stdout",
     "output_type": "stream",
     "text": [
      "[[9 2 2 1]\n",
      " [3 3 7 6]\n",
      " [3 6 0 4]]\n",
      "<class 'numpy.ndarray'>\n",
      "x2 ndim:  2\n",
      "x2 shape: (3, 4)\n",
      "x2 size:  12\n",
      "x2 datatype:  int32\n",
      "x2 itemsize:  4 bytes\n",
      "x2 nbytes:  48 bytes\n"
     ]
    }
   ],
   "source": [
    "print(x2)\n",
    "print(type(x2))\n",
    "x2 = np.random.randint(10, size=(3, 4),dtype=np.int32)  # Two-dimensional array\n",
    "print(\"x2 ndim: \", x2.ndim) # ndim-> the number of dimensions\n",
    "print(\"x2 shape:\", x2.shape) # shape-> the size of each dimension\n",
    "print(\"x2 size: \", x2.size) # size-> the total size of the array\n",
    "print(\"x2 datatype: \", x2.dtype) # dtype-> the data type of the array\n",
    "print(\"x2 itemsize: \", x2.itemsize,\"bytes\") # itemsize-> lists size of each array element\n",
    "print(\"x2 nbytes: \", x2.nbytes,\"bytes\") # nbytes->  lists the total size (in bytes) of the array"
   ]
  },
  {
   "cell_type": "code",
   "execution_count": null,
   "metadata": {
    "id": "dmL-_jMAXnwh"
   },
   "outputs": [],
   "source": []
  },
  {
   "cell_type": "code",
   "execution_count": 40,
   "metadata": {
    "colab": {
     "base_uri": "https://localhost:8080/"
    },
    "id": "NtGUlXpCIKqw",
    "outputId": "48b83f05-fa14-448a-e920-92260febf092"
   },
   "outputs": [
    {
     "name": "stdout",
     "output_type": "stream",
     "text": [
      "['0' 'lecture' '1.0' '5.6234']\n"
     ]
    },
    {
     "data": {
      "text/plain": [
       "dtype('<U32')"
      ]
     },
     "execution_count": 40,
     "metadata": {},
     "output_type": "execute_result"
    }
   ],
   "source": [
    "List = [0,'lecture',1.0,5.6234]\n",
    "# List.dtype\n",
    "data = np.array(List)\n",
    "print(data)\n",
    "data.dtype"
   ]
  },
  {
   "cell_type": "markdown",
   "metadata": {
    "id": "vBCnuc8BKn6s"
   },
   "source": [
    "### Array indexing\n"
   ]
  },
  {
   "cell_type": "code",
   "execution_count": 43,
   "metadata": {
    "colab": {
     "base_uri": "https://localhost:8080/"
    },
    "id": "gxeYbWbBHuzj",
    "outputId": "605fea76-d924-4cb4-8df5-d118f6fa0e38"
   },
   "outputs": [
    {
     "name": "stdout",
     "output_type": "stream",
     "text": [
      "[6 4 8 5 4 1]\n",
      "Array 1: 6\n",
      "[[6 9 8 4]\n",
      " [4 1 1 3]\n",
      " [4 9 2 6]]\n",
      "Array 2: 1\n",
      "[[[3 1 0 3 4]\n",
      "  [8 4 4 9 4]\n",
      "  [9 7 7 9 1]\n",
      "  [1 1 0 8 5]]\n",
      "\n",
      " [[1 8 0 6 4]\n",
      "  [6 8 9 3 8]\n",
      "  [6 4 0 2 4]\n",
      "  [5 6 2 9 1]]\n",
      "\n",
      " [[3 3 9 2 2]\n",
      "  [8 5 6 1 3]\n",
      "  [8 0 0 8 1]\n",
      "  [5 6 4 0 9]]]\n",
      "Array 3: 8\n"
     ]
    }
   ],
   "source": [
    "#Array indexing\n",
    "# If we want to access element in different dimensions arrays\n",
    "# In single dimensional x1 array :  \n",
    "print(x1)\n",
    "print(\"Array 1:\",x1[0]);\n",
    "# In 2-dimensional x2 array :\n",
    "# print(x2[i,j]);\n",
    "print(x2)\n",
    "print(\"Array 2:\",x2[1,1])\n",
    "# In 3-dimensional x3 array :\n",
    "print(x3)\n",
    "print(\"Array 3:\",x3[1,1,1]);"
   ]
  },
  {
   "cell_type": "markdown",
   "metadata": {
    "id": "ZyUhGYLUgNnL"
   },
   "source": [
    "### Array Slicing\n",
    "Slicing in python means taking elements from one given index to another given index.\n",
    "A slice of an array is a view into the same data, so modifying it will modify the original array."
   ]
  },
  {
   "cell_type": "code",
   "execution_count": 45,
   "metadata": {
    "colab": {
     "base_uri": "https://localhost:8080/"
    },
    "id": "sc8HizuPgZLK",
    "outputId": "ba26bc74-a606-4dbb-81eb-3f239cf63637"
   },
   "outputs": [
    {
     "name": "stdout",
     "output_type": "stream",
     "text": [
      "[ 0  1  2  3  4  5  6  7  8  9 10]\n",
      "Example 1: [2 3 4]\n",
      "Example 2: [0 3 6 9]\n",
      "Example 3: [ 5  6  7  8  9 10]\n",
      "Example 4: [0 1 2 3 4]\n",
      "Example 5: [ 0  2  4  6  8 10]\n",
      "[[ 1  2  3  4  5]\n",
      " [ 6  7  8  9 10]]\n",
      "Example 6: [[2 3 4]\n",
      " [7 8 9]]\n"
     ]
    }
   ],
   "source": [
    "x1 = np.arange(11)\n",
    "print(x1)\n",
    "print(\"Example 1:\",x1[2:5]) # x1[start:end]\n",
    "print(\"Example 2:\",x1[0:10:3]) # x1[start:end:step]\n",
    "print(\"Example 3:\",x1[5:]) # all elements from index 0 to the end of the array\n",
    "print(\"Example 4:\",x1[:5]) # all elements from beginning to index 5\n",
    "#Negative slicing can also be done\n",
    "print(\"Example 5:\",x1[::2]) #return every other element from start index 0 to index 10\n",
    "\n",
    "x2 = np.array([[1, 2, 3, 4, 5], [6, 7, 8, 9, 10]])\n",
    "print(x2)\n",
    "print(\"Example 6:\",x2[0:2, 1:4]) #  slice index 1 to index 4 (not included),2-d array returned"
   ]
  },
  {
   "cell_type": "markdown",
   "metadata": {
    "id": "GJ1QuXTglDD4"
   },
   "source": [
    "### Array Manipulation"
   ]
  },
  {
   "cell_type": "code",
   "execution_count": 24,
   "metadata": {
    "colab": {
     "base_uri": "https://localhost:8080/"
    },
    "id": "-mN-NAhJPItv",
    "outputId": "deee18da-ef9c-4b62-e011-43329de4d923"
   },
   "outputs": [
    {
     "name": "stdout",
     "output_type": "stream",
     "text": [
      "x1: [0 1 2 3 4 5 6 7 8 9]\n",
      "x1: [0 1 2 5 4 5 6 7 8 9]\n"
     ]
    }
   ],
   "source": [
    "x1 = np.arange(10)\n",
    "print(\"x1:\",x1)\n",
    "x1[3] = 5\n",
    "print(\"x1:\",x1)"
   ]
  },
  {
   "cell_type": "code",
   "execution_count": 47,
   "metadata": {
    "colab": {
     "base_uri": "https://localhost:8080/"
    },
    "id": "HAkhtSZegY76",
    "outputId": "e2b3f487-e6f9-44ea-b938-a0a61b6977c1"
   },
   "outputs": [
    {
     "name": "stdout",
     "output_type": "stream",
     "text": [
      "x2:\n",
      " [[ 1  2  3  4  5]\n",
      " [ 6  7  8  9 10]]\n",
      "[[False False False  True  True]\n",
      " [ True  True  True  True  True]]\n",
      "[[False False False  True  True]\n",
      " [ True False False False False]]\n",
      "Logical operation in arrays: [4 5 6]\n",
      "Example 2: [ 7  8  9 10]\n"
     ]
    }
   ],
   "source": [
    "print(\"x2:\\n\",x2)\n",
    "print(x2>3)\n",
    "print((x2>3) & (x2<7))\n",
    "print(\"Logical operation in arrays:\",x2[(x2>3) & (x2<7)])\n",
    "print(\"Example 2:\",x2[x2>6])"
   ]
  },
  {
   "cell_type": "code",
   "execution_count": 26,
   "metadata": {
    "colab": {
     "base_uri": "https://localhost:8080/"
    },
    "id": "IRFm_jSDlRHN",
    "outputId": "e19974ca-0f3b-4094-fdc4-0ebf5239969b"
   },
   "outputs": [
    {
     "name": "stdout",
     "output_type": "stream",
     "text": [
      "Print Unique Array: [0 1 2 3 4]\n"
     ]
    }
   ],
   "source": [
    "new_arr= np.array([0,1,2,1,3,4,1])\n",
    "print(\"Print Unique Array:\",np.unique(new_arr)) # using np.unique method"
   ]
  },
  {
   "cell_type": "code",
   "execution_count": 27,
   "metadata": {
    "colab": {
     "base_uri": "https://localhost:8080/"
    },
    "id": "IvEsu-cQmNU4",
    "outputId": "7582079f-b976-43e7-bedc-13c6eac028f4"
   },
   "outputs": [
    {
     "name": "stdout",
     "output_type": "stream",
     "text": [
      "Array x2 :\n",
      " [[ 1  2  3  4  5]\n",
      " [ 6  7  8  9 10]]\n",
      "Array x2':\n",
      " [[ 1  6]\n",
      " [ 2  7]\n",
      " [ 3  8]\n",
      " [ 4  9]\n",
      " [ 5 10]]\n"
     ]
    }
   ],
   "source": [
    "print(\"Array x2 :\\n\",x2)\n",
    "print(\"Array x2':\\n\",np.transpose(x2)) #Transpose of array "
   ]
  },
  {
   "cell_type": "code",
   "execution_count": 52,
   "metadata": {},
   "outputs": [
    {
     "name": "stdout",
     "output_type": "stream",
     "text": [
      "Object `flatten` not found.\n"
     ]
    }
   ],
   "source": [
    "?np.flatten"
   ]
  },
  {
   "cell_type": "code",
   "execution_count": 54,
   "metadata": {
    "colab": {
     "base_uri": "https://localhost:8080/"
    },
    "id": "2YAVRLzen4_F",
    "outputId": "f13d7633-a903-460e-f637-76f04e17f632"
   },
   "outputs": [
    {
     "name": "stdout",
     "output_type": "stream",
     "text": [
      "Array x2 :\n",
      " [[ 1  2  3  4  5]\n",
      " [ 6  7  8  9 10]]\n",
      "Array x2':\n",
      " [ 1  2  3  4  5  6  7  8  9 10]\n"
     ]
    }
   ],
   "source": [
    "print(\"Array x2 :\\n\",x2)\n",
    "print(\"Array x2':\\n\",x2.flatten()) # Flatten the array"
   ]
  },
  {
   "cell_type": "code",
   "execution_count": 29,
   "metadata": {
    "id": "bqtuGtnlodlV"
   },
   "outputs": [],
   "source": [
    "# x2 = np.random.randint(10,50, 9)\n",
    "# print(x2)\n",
    "# print(\"Sorted Array x2:\\n\",) \n",
    "# print(x2.sort(axis=0))"
   ]
  },
  {
   "cell_type": "markdown",
   "metadata": {
    "id": "FXVYkmDc0pdX"
   },
   "source": [
    "### Task: Find unique values "
   ]
  },
  {
   "cell_type": "code",
   "execution_count": 30,
   "metadata": {
    "id": "rzwZd-No0284"
   },
   "outputs": [
    {
     "ename": "NameError",
     "evalue": "name 'start' is not defined",
     "output_type": "error",
     "traceback": [
      "\u001b[0;31m----------------------------------------------------------------------\u001b[0m",
      "\u001b[0;31mNameError\u001b[0m                            Traceback (most recent call last)",
      "\u001b[0;32m<ipython-input-30-8ff5ed5b2881>\u001b[0m in \u001b[0;36m<module>\u001b[0;34m\u001b[0m\n\u001b[0;32m----> 1\u001b[0;31m \u001b[0mx1\u001b[0m \u001b[0;34m=\u001b[0m \u001b[0mnp\u001b[0m\u001b[0;34m.\u001b[0m\u001b[0mrandom\u001b[0m\u001b[0;34m.\u001b[0m\u001b[0mrandint\u001b[0m\u001b[0;34m(\u001b[0m\u001b[0mstart\u001b[0m\u001b[0;34m,\u001b[0m\u001b[0mstop\u001b[0m\u001b[0;34m,\u001b[0m\u001b[0mnum\u001b[0m\u001b[0;34m)\u001b[0m \u001b[0;31m#start,stop,no of values\u001b[0m\u001b[0;34m\u001b[0m\u001b[0;34m\u001b[0m\u001b[0m\n\u001b[0m\u001b[1;32m      2\u001b[0m \u001b[0;31m# First find unqiue valus\u001b[0m\u001b[0;34m\u001b[0m\u001b[0;34m\u001b[0m\u001b[0;34m\u001b[0m\u001b[0m\n\u001b[1;32m      3\u001b[0m \u001b[0;34m\u001b[0m\u001b[0m\n\u001b[1;32m      4\u001b[0m \u001b[0;31m# Then find values greater than the stop/2\u001b[0m\u001b[0;34m\u001b[0m\u001b[0;34m\u001b[0m\u001b[0;34m\u001b[0m\u001b[0m\n",
      "\u001b[0;31mNameError\u001b[0m: name 'start' is not defined"
     ]
    }
   ],
   "source": [
    "x1 = np.random.randint(start,stop,num) #start,stop,no of values\n",
    "# First find unqiue valus\n",
    "\n",
    "# Then find values greater than the stop/2\n"
   ]
  },
  {
   "cell_type": "markdown",
   "metadata": {
    "id": "kCaBnxOCKYPG"
   },
   "source": [
    "### Array Reshape\n",
    "- Using Shape\n",
    "- Using Reshape"
   ]
  },
  {
   "cell_type": "code",
   "execution_count": 55,
   "metadata": {
    "colab": {
     "base_uri": "https://localhost:8080/"
    },
    "id": "Nje_YSPFSOt_",
    "outputId": "de3d31f7-93cd-4173-b14a-5ab52556ae0c"
   },
   "outputs": [
    {
     "name": "stdout",
     "output_type": "stream",
     "text": [
      "Initial Array :  [0 1 2 3 4 5 6 7 8 9]\n",
      "Initial Array Shape:  (10,)\n",
      "Final Array  : \n",
      " [[0 1 2 3 4]\n",
      " [5 6 7 8 9]]\n",
      "Final Array Shape:  (2, 5)\n"
     ]
    }
   ],
   "source": [
    "arr = np.arange(10)\n",
    "print(\"Initial Array : \",arr)\n",
    "print(\"Initial Array Shape: \",arr.shape)\n",
    "arr = arr.reshape((2,5))\n",
    "print(\"Final Array  : \\n\",arr)\n",
    "print(\"Final Array Shape: \",arr.shape)"
   ]
  },
  {
   "cell_type": "markdown",
   "metadata": {
    "id": "z-H13z-_0jBT"
   },
   "source": [
    "### Task : Do Reshape"
   ]
  },
  {
   "cell_type": "code",
   "execution_count": null,
   "metadata": {
    "colab": {
     "base_uri": "https://localhost:8080/"
    },
    "id": "SaXTFFYElNgG",
    "outputId": "49bab79c-40e5-4ada-a119-38a5004eced7"
   },
   "outputs": [],
   "source": [
    "# Do it yourself\n",
    "brr = np.array([[1,2,3,4,5,6],[4,5,6,7,8,9]]) \n",
    "print(brr) # find the brr shape first \n",
    "#brr.shape = # (rows,columns) , \n",
    "print(brr) #How many rows and columns does it have now?"
   ]
  },
  {
   "cell_type": "markdown",
   "metadata": {
    "id": "8Qx3jVJ6pHQJ"
   },
   "source": [
    "### Array Stacking & Splitting\n"
   ]
  },
  {
   "cell_type": "code",
   "execution_count": 56,
   "metadata": {
    "colab": {
     "base_uri": "https://localhost:8080/"
    },
    "id": "Kpg5sDl2pNFx",
    "outputId": "76dc17ec-c5b9-40aa-afee-9543792d5361"
   },
   "outputs": [
    {
     "name": "stdout",
     "output_type": "stream",
     "text": [
      "x1: \n",
      " [[7 5 7]\n",
      " [1 3 1]\n",
      " [5 4 0]]\n",
      "x2: \n",
      " [[5 2 0]\n",
      " [6 3 8]\n",
      " [6 3 1]]\n",
      "Vertical Stack: \n",
      " [[7 5 7]\n",
      " [1 3 1]\n",
      " [5 4 0]\n",
      " [5 2 0]\n",
      " [6 3 8]\n",
      " [6 3 1]]\n",
      "Horizontal Stack: \n",
      " [[7 5 7 5 2 0]\n",
      " [1 3 1 6 3 8]\n",
      " [5 4 0 6 3 1]]\n",
      "ss_arr_5\n",
      " [[9 9 4 4 0 1 2 3 0 5]\n",
      " [1 6 1 4 5 2 6 8 7 3]]\n",
      "Horizontal Split:\n",
      " [array([[9, 9],\n",
      "       [1, 6]]), array([[4, 4],\n",
      "       [1, 4]]), array([[0, 1],\n",
      "       [5, 2]]), array([[2, 3],\n",
      "       [6, 8]]), array([[0, 5],\n",
      "       [7, 3]])]\n"
     ]
    }
   ],
   "source": [
    "x1 = np.random.randint(10, size=(3, 3))\n",
    "x2 = np.random.randint(10, size=(3,3))\n",
    "print(\"x1: \\n\",x1)\n",
    "print(\"x2: \\n\",x2)\n",
    "print(\"Vertical Stack: \\n\",np.vstack((x1,x2))) #useful in pandas if you remember csv\n",
    "print(\"Horizontal Stack: \\n\",np.hstack((x1,x2)))\n",
    "\n",
    "# Generate 2x10 array\n",
    "ss_arr_5 = np.random.randint(10, size=(2, 10))\n",
    "print(\"ss_arr_5\\n\", ss_arr_5)\n",
    "# Split into 5 arrays taking from both arrays in multidimensional array\n",
    "print(\"Horizontal Split:\\n\",np.hsplit(ss_arr_5, 5))"
   ]
  },
  {
   "cell_type": "code",
   "execution_count": 58,
   "metadata": {
    "colab": {
     "base_uri": "https://localhost:8080/"
    },
    "id": "Woex4SzmrTBQ",
    "outputId": "f91d9a64-2973-46cf-f978-5ebf784350c1"
   },
   "outputs": [
    {
     "name": "stdout",
     "output_type": "stream",
     "text": [
      "x1: \n",
      " [[7 5 7]\n",
      " [1 3 1]\n",
      " [5 4 0]]\n",
      "x2: \n",
      " [[5 2 0]\n",
      " [6 3 8]\n",
      " [6 3 1]]\n",
      "x3: \n",
      " [[7 5]\n",
      " [1 3]\n",
      " [5 4]]\n",
      "x4: \n",
      " [[5 2 0]\n",
      " [6 3 8]]\n"
     ]
    }
   ],
   "source": [
    "print(\"x1: \\n\",x1)\n",
    "print(\"x2: \\n\",x2)\n",
    "x3 = np.delete(x1,2,1) # (arr,columnindex, axis) ,in axis, 0 is for row and 1 is for column\n",
    "x4 = np.delete(x2,2,0) # row focussed\n",
    "print(\"x3: \\n\",x3)\n",
    "print(\"x4: \\n\",x4)"
   ]
  },
  {
   "cell_type": "markdown",
   "metadata": {
    "id": "8d-v4Xyyv2Kl"
   },
   "source": [
    "### Array Copying\n"
   ]
  },
  {
   "cell_type": "code",
   "execution_count": 59,
   "metadata": {
    "colab": {
     "base_uri": "https://localhost:8080/"
    },
    "id": "Gh5nIVQCv3lc",
    "outputId": "657a8dda-d3ac-4567-94be-00cde61124c1"
   },
   "outputs": [
    {
     "name": "stdout",
     "output_type": "stream",
     "text": [
      "Initial x1: [[7 8]\n",
      " [2 5]]\n",
      "[[5 8]\n",
      " [2 5]] \n",
      " [[5 8]\n",
      " [2 5]]\n",
      "[[5 8]\n",
      " [2 2]] \n",
      " [[5 8]\n",
      " [2 2]]\n",
      "[[5 8]\n",
      " [2 2]] \n",
      " [[5 8]\n",
      " [2 2]]\n"
     ]
    }
   ],
   "source": [
    "x1 = np.random.randint(10, size=(2, 2))\n",
    "print(\"Initial x1:\",x1)\n",
    "x2 = x1 # they will point at same array\n",
    "x2[0,0] = 5\n",
    "print(x1,\"\\n\",x1)\n",
    "\n",
    "x2=x1.view() \n",
    "x2[1,1] = 2\n",
    "print(x1,\"\\n\",x2)\n",
    "\n",
    "x2=x1.copy()\n",
    "print(x1,\"\\n\",x2)\n",
    "#main difference between a copy and a view of an array is that the copy is a new array, and the view is just a view of the original array."
   ]
  },
  {
   "cell_type": "markdown",
   "metadata": {
    "id": "LfsKOlIrQp7f"
   },
   "source": [
    "### Array Math\n",
    "Basic mathematical functions operate elementwise on arrays, and are available both as operator overloads and as functions."
   ]
  },
  {
   "cell_type": "code",
   "execution_count": null,
   "metadata": {
    "colab": {
     "base_uri": "https://localhost:8080/"
    },
    "id": "asGqkstTQpJE",
    "outputId": "6e526bdc-537a-47a0-8b1a-81d67b887060"
   },
   "outputs": [],
   "source": [
    "x = np.array([[1,2],[3,4]], dtype=np.float64)\n",
    "y = np.array([[5,6],[7,8]], dtype=np.float64)\n",
    "\n",
    "# Elementwise sum; both produce the array\n",
    "# [[ 6.0  8.0]\n",
    "#  [10.0 12.0]]\n",
    "print(x+2)\n",
    "print(x + y)\n",
    "print(np.add(x,2))\n",
    "print(np.add(x, y))"
   ]
  },
  {
   "cell_type": "code",
   "execution_count": null,
   "metadata": {
    "colab": {
     "base_uri": "https://localhost:8080/"
    },
    "id": "Gz4whjL3RKf0",
    "outputId": "66fe5f83-2c40-4ebf-dc15-636d4b088d7d"
   },
   "outputs": [],
   "source": [
    "\n",
    "# Elementwise difference; both produce the array\n",
    "# [[-4.0 -4.0]\n",
    "#  [-4.0 -4.0]]\n",
    "print(x - y)\n",
    "print(np.subtract(x, y))"
   ]
  },
  {
   "cell_type": "code",
   "execution_count": null,
   "metadata": {
    "colab": {
     "base_uri": "https://localhost:8080/"
    },
    "id": "LzLqguGKRNXT",
    "outputId": "dd164380-8b2a-4ac7-d733-baa600338e20"
   },
   "outputs": [],
   "source": [
    "# Elementwise product; both produce the array\n",
    "# [[ 5.0 12.0]\n",
    "#  [21.0 32.0]]\n",
    "print(x * y)\n",
    "print(np.multiply(x, y))"
   ]
  },
  {
   "cell_type": "code",
   "execution_count": null,
   "metadata": {
    "colab": {
     "base_uri": "https://localhost:8080/"
    },
    "id": "VhSeOrQ3RRXB",
    "outputId": "473c8790-e4c3-4faa-a7fc-c9a37a0020c4"
   },
   "outputs": [],
   "source": [
    "# Elementwise division; both produce the array\n",
    "# [[ 0.2         0.33333333]\n",
    "#  [ 0.42857143  0.5       ]]\n",
    "print(x / y)\n",
    "print(np.divide(x, y))\n",
    "print(np.remainder(x, y))\n",
    "print(np.log2(x))"
   ]
  },
  {
   "cell_type": "code",
   "execution_count": null,
   "metadata": {
    "colab": {
     "base_uri": "https://localhost:8080/"
    },
    "id": "JiTJ89CNRU5K",
    "outputId": "620af2bf-6933-4a59-fea9-92dc788bd73e"
   },
   "outputs": [],
   "source": [
    "# Elementwise square root; produces the array\n",
    "# [[ 1.          1.41421356]\n",
    "#  [ 1.73205081  2.        ]]\n",
    "print(np.sqrt(x))"
   ]
  },
  {
   "cell_type": "code",
   "execution_count": null,
   "metadata": {
    "colab": {
     "base_uri": "https://localhost:8080/"
    },
    "id": "_YMaCnXxXrK6",
    "outputId": "9e82803c-9568-47cc-91eb-acbe2e0c72bf"
   },
   "outputs": [],
   "source": [
    "np.floor([1.2,3.23,123.21])"
   ]
  },
  {
   "cell_type": "code",
   "execution_count": null,
   "metadata": {
    "colab": {
     "base_uri": "https://localhost:8080/"
    },
    "id": "YFVzOVY9Xwpl",
    "outputId": "937a4b28-b773-41e3-b6c7-0b903f7e7560"
   },
   "outputs": [],
   "source": [
    "np.ceil([1.2,3.23,123.21])"
   ]
  },
  {
   "cell_type": "code",
   "execution_count": 62,
   "metadata": {
    "colab": {
     "base_uri": "https://localhost:8080/"
    },
    "id": "mRvsksppUxAm",
    "outputId": "acfb5c20-1c80-42e2-9238-c25fe15d53d0"
   },
   "outputs": [
    {
     "name": "stdout",
     "output_type": "stream",
     "text": [
      "[[62 11 18]\n",
      " [43 61  7]]\n",
      "direct sum: [105  72  25]\n",
      "cumsum :  [[ 62  11  18]\n",
      " [105  72  25]]\n",
      "max: [62 61]\n",
      "min: [43 11  7]\n"
     ]
    }
   ],
   "source": [
    "x = np.random.randint(100, size=(4))\n",
    "y = np.random.randint(100, size=(2,3))\n",
    "print(y)\n",
    "print(\"direct sum:\",y.sum(axis=0))\n",
    "print(\"cumsum : \" ,y.cumsum(axis=0))\n",
    "print(\"max:\",y.max(axis=1))\n",
    "print(\"min:\",y.min(axis=0))"
   ]
  },
  {
   "cell_type": "markdown",
   "metadata": {
    "id": "tAio-SgrVY3D"
   },
   "source": [
    "### Linear Algebra\n"
   ]
  },
  {
   "cell_type": "code",
   "execution_count": null,
   "metadata": {
    "colab": {
     "base_uri": "https://localhost:8080/"
    },
    "id": "gJvtpKmbQXJP",
    "outputId": "1c926b36-8d3d-4054-f92a-4cc2e9f59257"
   },
   "outputs": [],
   "source": [
    "from numpy import linalg as LA\n",
    "# Random 4 digit 1D array between 0 to 100\n",
    "arr_5 = np.array([[1, 2], [3, 4]])\n",
    "arr_6 = np.array([[2, 4], [6, 9]])\n",
    "\n",
    "print(\"arr_5\\n\", arr_5)\n",
    "print(\"arr_6\\n\", arr_6)\n",
    "arr_8 = np.array([[5, 6], [7, 8]])\n",
    "\n",
    "# Matrix multiplication with Dot Product\n",
    "# (1 * 2) + (2 * 6) = 14 [0,0]\n",
    "# (1 * 4) + (2 * 9) = 22 [0,1]\n",
    "# (3 * 2) + (4 * 6) = 30 [1,0]\n",
    "# (3 * 4) + (4 * 9) = 12 + 36 = 48 [1,1]\n",
    "np.dot(arr_5, arr_6)\n",
    "# Compute dot product of 2 or more arrays\n",
    "LA.multi_dot([arr_5, arr_6, arr_8])\n",
    "\n",
    "# Inner product \n",
    "# (1 * 2) + (2 * 4) = 10 [0,0]\n",
    "# (1 * 6) + (2 * 9) = 24 [0,1]\n",
    "# (3 * 2) + (4 * 4) = 22 [1,0]\n",
    "# (3 * 6) + (4 * 9) = 54 [1,1]\n",
    "np.inner(arr_5, arr_6)\n",
    "np.dot(arr_5, arr_6)\n",
    "\n",
    "# Raise matrix to the power of n\n",
    "# Given [[a, b], [c, d]]\n",
    "# [[a² + bc, ab +db], [ac + dc, d² + bc]\n",
    "LA.matrix_power(arr_5, 2)\n",
    "# A\n",
    "\n",
    "# Get Multiplicative Inverse of a matrix\n",
    "LA.inv(arr_5)\n",
    "\n",
    "# # Get Condition number of matrix\n",
    "# LA.cond(arr_5)\n",
    "\n",
    "# Determinates are used to compute volume, area, to solve systems\n",
    "# of equations and more. It is a way you can multiply values in a\n",
    "# matrix to get 1 number.\n",
    "# For a matrix to have an inverse its determinate must not equal 0\n",
    "# det([[a, b], [c, d]]) = a*d - b*c\n",
    "arr_12 = np.array([[1, 2], [3, 4]])\n",
    "# 1*4 - 2*3 = -2\n",
    "LA.det(arr_12)\n",
    "\n",
    "# Determinate of 3x3 Matrix\n",
    "# det([[a, b, c], [d, e, f], [g, h, i]]) = a*e*i - b*d*i + c*d*h\n",
    "# - a*f*h + b*f*g - c*e*g\n",
    "\n",
    "# When we multiply a matrix times its inverse we get the identity\n",
    "# matrix [[1,0],[0,1]] for a 2x2 matrix\n",
    "# Calculate the inverse 1/(a*d - b*c) * [[d, -b], [-c, a]]\n",
    "# 1/(4 - 6) = -.5 -> [[-.5*4, -.5*-2], [-.5*-3, -.5*a]]\n",
    "arr_12_i = LA.inv(arr_12)\n",
    "arr_12_i\n",
    "\n",
    "np.dot(arr_12, arr_12_i)\n",
    "\n",
    "# Solving Systems of Linear Equations\n",
    "# If you have 3x + 5 = 9x -> 5 = 6x -> x = 5/6\n",
    "# If you have x + 4y = 10 & 6x + 18y = 42\n",
    "# Isolate x -> x = 10 - 4y\n",
    "# 6(10 - 4y) + 18y = 42 -> 60 - 24y + 18y = 42 - > -6y = -18 -> y = 3\n",
    "# x + 4*3 = 10 -> x = -2\n",
    "arr_13 = np.array([[1, 4], [6, 18]])\n",
    "arr_14 = np.array([10, 42])\n",
    "# Solve will solve this for you as well\n",
    "LA.solve(arr_13, arr_14)\n",
    "\n",
    "# Return a identity matrix with defined number of rows and columns\n",
    "np.eye(2, 2, dtype=int)"
   ]
  },
  {
   "cell_type": "code",
   "execution_count": null,
   "metadata": {
    "colab": {
     "base_uri": "https://localhost:8080/"
    },
    "id": "hN3jOO6DH5Kc",
    "outputId": "f382010f-0774-4509-8b7e-3a1a4ce11df3"
   },
   "outputs": [],
   "source": [
    "arr_12 = np.array([[1, 2], [3, 4]])\n",
    "# 1*4 - 2*3 = -2\n",
    "LA.det(arr_12)"
   ]
  },
  {
   "cell_type": "code",
   "execution_count": null,
   "metadata": {
    "colab": {
     "base_uri": "https://localhost:8080/"
    },
    "id": "7mlpwWxYRjmO",
    "outputId": "b6e4c229-e52a-4c59-f1b6-9494e4e4c2ed"
   },
   "outputs": [],
   "source": [
    "x = np.array([[1,2],[3,4]])\n",
    "y = np.array([[5,6],[7,8]])\n",
    "\n",
    "v = np.array([9,10])\n",
    "w = np.array([11, 12])\n",
    "\n",
    "# Inner product of vectors; both produce 219\n",
    "print(v.dot(w))\n",
    "print(np.dot(v, w))"
   ]
  },
  {
   "cell_type": "code",
   "execution_count": null,
   "metadata": {
    "colab": {
     "base_uri": "https://localhost:8080/"
    },
    "id": "6l8iwoufRoVd",
    "outputId": "be3173e3-dad6-4f25-aeaf-7553a0389521"
   },
   "outputs": [],
   "source": [
    "# Matrix / vector product; both produce the rank 1 array [29 67]\n",
    "print(x.dot(v))\n",
    "print(np.dot(x, v))"
   ]
  },
  {
   "cell_type": "code",
   "execution_count": null,
   "metadata": {
    "colab": {
     "base_uri": "https://localhost:8080/"
    },
    "id": "flYQYDXORvit",
    "outputId": "d9fe1f3d-e859-4bc3-f3d9-201b56035459"
   },
   "outputs": [],
   "source": [
    "# Matrix / matrix product; both produce the rank 2 array\n",
    "# [[19 22]\n",
    "#  [43 50]]\n",
    "print(x.dot(y))\n",
    "print(np.dot(x, y))"
   ]
  },
  {
   "cell_type": "markdown",
   "metadata": {
    "id": "rjmM2vr2NLuj"
   },
   "source": [
    "### Statistics Functions"
   ]
  },
  {
   "cell_type": "code",
   "execution_count": null,
   "metadata": {
    "colab": {
     "base_uri": "https://localhost:8080/"
    },
    "id": "np_2Ab2MNQ2R",
    "outputId": "7647f717-df59-42d5-a43b-5c0537acebe1"
   },
   "outputs": [],
   "source": [
    "x1 = np.arange(0,10)\n",
    "print(x1)\n",
    "#mean\n",
    "print(\"Mean: \",np.mean(x1))"
   ]
  },
  {
   "cell_type": "code",
   "execution_count": null,
   "metadata": {
    "colab": {
     "base_uri": "https://localhost:8080/"
    },
    "id": "OrApodjNIyA0",
    "outputId": "d62b5429-3740-4a30-a072-1c60c43edbae"
   },
   "outputs": [],
   "source": [
    "#median\n",
    "print(\"Median:\",np.median(x1))\n",
    "\n",
    "#average\n",
    "print(\"Average:\",np.average(x1))\n",
    "\n",
    "#standard deviation\n",
    "print(\"Standard Deviation:\",np.std(x1))\n",
    "\n",
    "#variance\n",
    "print(\"Variance:\",np.var(x1))"
   ]
  },
  {
   "cell_type": "markdown",
   "metadata": {
    "id": "VwPzPAcLOt5l"
   },
   "source": [
    "### Trignometry Functions"
   ]
  },
  {
   "cell_type": "code",
   "execution_count": null,
   "metadata": {
    "colab": {
     "base_uri": "https://localhost:8080/",
     "height": 282
    },
    "id": "ydnYcuJWOttr",
    "outputId": "de79f865-7509-4476-c46c-9bac01d08422"
   },
   "outputs": [],
   "source": [
    "x1 = np.linspace(-np.pi,np.pi,200)\n",
    "plt.plot(x1,np.cos(x1)) #plt.plot(x,y)\n",
    "np.arctan(1)\n",
    "# ALso sinh ,cosh,tanh,arcsinh,arccosh etc\n",
    "np.rad2deg(np.pi)\n",
    "np.deg2rad(np.pi)\n",
    "np.hypot(10,10)"
   ]
  },
  {
   "cell_type": "markdown",
   "metadata": {
    "id": "hy4gQFeyPqUx"
   },
   "source": [
    "### Comparison Functions"
   ]
  },
  {
   "cell_type": "code",
   "execution_count": null,
   "metadata": {
    "colab": {
     "base_uri": "https://localhost:8080/"
    },
    "id": "aNR2l40UPxEW",
    "outputId": "177d9b3b-81ee-4cd3-d9f1-f99fdf3bccaf"
   },
   "outputs": [],
   "source": [
    "carr_1 = np.array([2, 3, 1, 2])\n",
    "carr_2 = np.array([3, 2, 3, 4])\n",
    "# Returns boolean based on whether arr_1 value Comparison arr_2 value\n",
    "print(np.greater(carr_1, carr_2))\n",
    "print(np.greater_equal(carr_1, carr_2))\n",
    "print(np.less(carr_1, carr_2))\n",
    "print(np.less_equal(carr_1, carr_2))\n",
    "print(np.not_equal(carr_1, carr_2))\n",
    "print(np.equal(carr_1, carr_2))"
   ]
  },
  {
   "cell_type": "markdown",
   "metadata": {
    "id": "2HAgspG_VDfE"
   },
   "source": [
    "### Array Flags\n",
    "Ndarray object has the following attributes. Its current values are returned\n",
    " by this function.\n",
    "- C_CONTIGUOUS (C) -The data is in a single, C-style contiguous segment\n",
    "- F_CONTIGUOUS (F) - The data is in a single, Fortran-style contiguous segment\t\n",
    "- OWNDATA (O) - The array owns the memory it uses or borrows it from another object\t\n",
    "- WRITEABLE (W) - The data area can be written to. Setting this to False locks the data, making it read-only\n",
    "- ALIGNED (A) - The data and all elements are aligned appropriately for the hardware\n",
    "- UPDATEIFCOPY (U) - This array is a copy of some other array. When this array is deallocated, the base array will be updated with the contents of this array"
   ]
  },
  {
   "cell_type": "code",
   "execution_count": null,
   "metadata": {
    "colab": {
     "base_uri": "https://localhost:8080/"
    },
    "id": "tYJqGzqjVM7R",
    "outputId": "56991c7a-49a7-4757-b056-1b7c987f3e3a"
   },
   "outputs": [],
   "source": [
    "arr = np.array([1,2,3,4,5]) \n",
    "print(x2.flags)"
   ]
  },
  {
   "cell_type": "markdown",
   "metadata": {
    "id": "j27203o3IsCw"
   },
   "source": [
    "## Resources :\n",
    "\n",
    "\n",
    "- Nicolas P. Rougier's Book \"From Python to Numpy\" ->\n",
    " [Link](https://www.labri.fr/perso/nrougier/from-python-to-numpy/) || [Link-2](https://github.com/rougier/numpy-tutorial)\n",
    "- NumPy Official Documentation -> [Link](https://numpy.org/devdocs/user/absolute_beginners.html)\n",
    "- Kaggle Has plethora of notebooks -> [Link](www.kaggle.com)\n",
    "- Learning the python hardway -> [Link](https://learnpythonthehardway.org/book/)\n",
    "- Free Code Camp's Videos -> [Link](https://www.youtube.com/watch?v=QUT1VHiLmmI)\n",
    "- Edureka's video on Numpy -> [Link](https://www.youtube.com/watch?v=8JfDAm9y_7s) || [Link-2](https://www.edureka.co/blog/python-numpy-tutorial/)\n",
    "- Derek Banas videos rock(the best) -> [Link](https://www.youtube.com/watch?v=8Y0qQEh7dJg) || [Link](https://github.com/derekbanas/NumPy-Tutorial/blob/master/NumPy%20Tut.ipynb)\n",
    "- Numpy Playlist -> [Link](https://youtu.be/GB9ByFAIAH4?list=RDQMZI0VMokkS5U)\n",
    "- Scipy Lectures -> [Link](https://scipy-lectures.org/)\n",
    "- Machine Learning Plus -> [Link](https://www.machinelearningplus.com/python/numpy-tutorial-part1-array-python-examples/)\n",
    "- DataQuest.io Tutorial -> [Link](https://www.dataquest.io/blog/numpy-tutorial-python/)\n",
    "- Stanford's Lecture on Numpy-> [Link](https://cs231n.github.io/python-numpy-tutorial/#numpy)\n",
    "\n"
   ]
  }
 ],
 "metadata": {
  "colab": {
   "collapsed_sections": [
    "aaZW_9-F1GgZ",
    "AKyA-H7PGrV5",
    "zOB9LWPdKGPS",
    "X_69HsuvNJYU",
    "BFCBMAaxNiXi",
    "JAAzgYDcNzLC",
    "3xa3z_BkOE4T",
    "NbUi6tI_VzUv",
    "2HAgspG_VDfE"
   ],
   "name": "Numpy and Pandas 101",
   "provenance": []
  },
  "kernelspec": {
   "display_name": "Python 3",
   "language": "python",
   "name": "python3"
  },
  "language_info": {
   "codemirror_mode": {
    "name": "ipython",
    "version": 3
   },
   "file_extension": ".py",
   "mimetype": "text/x-python",
   "name": "python",
   "nbconvert_exporter": "python",
   "pygments_lexer": "ipython3",
   "version": "3.8.0"
  }
 },
 "nbformat": 4,
 "nbformat_minor": 4
}
